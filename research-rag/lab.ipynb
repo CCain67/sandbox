{
 "cells": [
  {
   "cell_type": "code",
   "execution_count": 1,
   "metadata": {},
   "outputs": [],
   "source": [
    "import assistant"
   ]
  },
  {
   "cell_type": "code",
   "execution_count": 2,
   "metadata": {},
   "outputs": [
    {
     "name": "stdout",
     "output_type": "stream",
     "text": [
      "Mapping tori are classified by considering the isotopy classes of the self-homeomorphisms that define them, particularly in the context of bundles over the circle \\( S^1 \\). The classification of mapping tori can be understood through several key concepts that relate to the topology of the base space (\\( S^1 \\)) and the fiber space (\\( M \\)).\n",
      "\n",
      "### Key points from the provided notes:\n",
      "\n",
      "1. **Mapping Torus Definition (Context 2):**  \n",
      "   The mapping torus \\( T_f \\) of a self-homeomorphism \\( f: N \\to N \\) is constructed by identifying points \\( (x, 0) \\) and \\( (f(x), 1) \\) in \\( N \\times I \\), where \\( I = [0, 1] \\). This space \\( T_f \\) is naturally a bundle over \\( S^1 \\) with fiber \\( N \\).\n",
      "\n",
      "2. **Classification Theorem (Context 1):**  \n",
      "   The theorem states that the mapping tori \\( T_f \\) and \\( T_g \\) (with projections \\( p_f: T_f \\to S^1 \\) and \\( p_g: T_g \\to S^1 \\)) are bundle isomorphic if and only if the isotopy classes \\([f]\\) and \\([g]\\) of the self-homeomorphisms \\( f \\) and \\( g \\) are conjugate in the group of isotopy classes of homeomorphisms of \\( M \\), denoted \\( \\pi_0 \\Top(M) \\). This means that there exists a homeomorphism \\( h: M \\to M \\) such that \\( g = h^{-1} \\circ f \\circ h \\).\n",
      "\n",
      "3. **Boundary Behavior (Context 3):**  \n",
      "   If \\( M \\) is the interior of a compact manifold \\( \\bar{M} \\) with boundary, and \\( f: M \\to M \\) is a homeomorphism, then the mapping torus \\( T_f \\) is the interior of a bundle over \\( S^1 \\) with fiber \\(\\bar{M}\\) if \\( f \\) can be extended or is isotopic to a homeomorphism which is part of an equivalent class formed by conjugation from the homeomorphisms of the compactified space \\(\\bar{M}\\).\n",
      "\n",
      "### Detailed Explanation and Summary:\n",
      "\n",
      "- **Mapping Tori as Fiber Bundles:**  \n",
      "Mapping tori \\( T_f \\) naturally arise as fiber bundles over \\( S^1 \\). The classification of these bundles is equivalent to the problem of classifying the monodromy, i.e., the self-homeomorphisms of the fiber up to isotopy.\n",
      "\n",
      "- **Conjugacy in \\(\\pi_0 \\Top(M)\\):**  \n",
      "Two mapping tori are isomorphic as bundles if their defining monodromies (self-homeomorphisms) are conjugate in \\(\\pi_0 \\Top(M)\\). This means \\( f \\) and \\( g \\) define the same bundle structure if there exists a sequence of continuous deformations (an isotopy) connecting them through conjugation. Conjugation by a homeomorphism essentially changes the \"twisting\" of the bundle by reparametrizing the fiber space.\n",
      "\n",
      "- **Role of Extensions for Open Manifolds (Context 3):**  \n",
      "If \\( M \\) is open (interior of \\(\\bar{M}\\)), then \\( T_f \\) can be considered as the interior of a mapping torus of \\(\\bar{M}\\). The condition of \\( f \\) being isotopic to the interior restriction of a homeomorphism \\(\\bar{f}: \\bar{M} \\to \\bar{M}\\) ensures the mapping torus structure extends to the boundary, allowing classification through compact manifolds.\n",
      "\n",
      "Overall, the classification of mapping tori in terms of bundles relates to the conjugacy class of the monodromy in the group of isotopy classes of homeomorphisms \\(\\pi_0 \\Top(M)\\), ensuring that the fiber bundle structure over the circle \\( S^1 \\) engendered by the self-mappings is appropriately conserved across potential bundle equivalences.\n"
     ]
    }
   ],
   "source": [
    "assistant.ask(\"How are mapping tori classified?\")"
   ]
  },
  {
   "cell_type": "markdown",
   "metadata": {},
   "source": [
    "### Adding new data"
   ]
  },
  {
   "cell_type": "code",
   "execution_count": 4,
   "metadata": {},
   "outputs": [
    {
     "data": {
      "text/plain": [
       "[\"Let $N$ be a topological manifold with connected boundary. In this note, we'll show that the mapping torus $T_f$ of a self-homeomorphism $f:N^{\\\\circ}\\\\to N^{\\\\circ}$ of the interior admits a vertical boundary closure if and only if the $f$ is isotopic to the restriction of a homeomorphism $g:N\\\\to N$, if and only if the cobordism $W_f\\\\coloneq N\\\\setminus fj(N^{\\\\circ})$ determined by $f$ is a collar. The key step here is showing that the image of the restriction map $\\\\res:\\\\pi_0\\\\Top(N)\\\\to\\\\pi_0\\\\Top(N^{\\\\circ})$ is a normal subgroup. The topological $h$-cobordism and $s$-cobordism theorems give immediate consequences. We use these to show that stabilization by $S^1$ guarantees a boundary closure for a certain dimension range. \",\n",
       " 'Recall that for a self-homeomorphism $f:N\\\\to N$ of a space $N$, the \\\\term{mapping torus} is the bundle $T_f$ defined as the following quotient:\\n\\\\[\\n\\tN\\\\hookrightarrow T_f\\\\coloneq\\\\frac{N\\\\times I}{(x,0)\\\\sim(f(x),1)}\\\\xrightarrow{\\\\ p \\\\ }S^1\\n\\\\]\\nwhere the map to $S^1$ is the obvious projection. If $N$ is a compact manifold with boundary, then the vertical interior $\\\\Int_{S^1}(T_f)$ is the mapping torus bundle of the restriction $f|_{N^{\\\\circ}}$, and the vertical boundary $\\\\partial_vT_f$ is the mapping torus of the restriction $f|_{\\\\partial{N}}$. ',\n",
       " 'We have the following well known classification theorem for mapping torus bundles:\\n\\\\begin{thm}\\n    Let $f,g:M\\\\to M$ be two self homeomorphisms of $M$ with $p_f:T_f\\\\to S^1$ and $p_g:T_g\\\\to S^1$ the bundle projections. Then, there exists a bundle isomorphism $T_f\\\\to T_g$ if and only if $[f]$ and $[g]$ are conjugate in $\\\\pi_0\\\\Top(M)$.\\n\\\\end{thm}',\n",
       " 'Immediately we have an implication for boundary closures of mapping tori of open manifolds. \\n\\\\begin{prop}\\nIf $M$ is the interior of a compact manifold $\\\\bar{M}$ with boundary, and $f:M\\\\to M$ is a homeomorphism, then the mapping torus $T_f$ is the interior of a bundle $E\\\\to S^1$ with fiber $\\\\bar{M}$ if and only if $f$ is isotopic to a conjugate of the restriction of a homeomorphism $\\\\bar{f}:\\\\bar{M}\\\\to\\\\bar{M}$ to the interior. \\n\\\\end{prop}',\n",
       " \"\\\\begin{defn}\\nLet $N$ and $N'$ be any two boundary closures of an open manifold $M$, and let $f:N^{\\\\circ}\\\\to(N')^{\\\\circ}$ be a homeomorphism between the interiors. Fix a locally flat isotopy inverse $j:N\\\\hookrightarrow N^{\\\\circ}$ of the inclusion $N^{\\\\circ}\\\\hookrightarrow N$. For the manifold\\n\\\\[\\n    W_f\\\\coloneq N'\\\\setminus fj(N^{\\\\circ}),\\n\\\\]\\nthe triple $(W_f,fj|_{\\\\partial{N}},i_{\\\\partial{N'}})$ will be referred to as the \\\\term{cobordism determined by $f$}, where $i_{\\\\partial{N'}}$ is the inclusion of the boundary.\\n\\\\end{defn}\",\n",
       " \"\\\\begin{remx}\\n    As any two locally flat embeddings $j,j':N\\\\hookrightarrow N^{\\\\circ}$ inverse to the inclusion $N^{\\\\circ}\\\\hookrightarrow N$ are locally flat isotopic, we are justified in calling $W_f$ \\\\emph{the} cobordism determined by $f$ (by the isotopy extension theorem).    \\n\\\\end{remx}\\n   \\nThe following theorem describes how the properties of $f$ and the properties of the cobordism $W_f$ are related. \\n\\\\begin{prop}\\\\label{prop:image_of_res_iff_W_is_collar}\\nLet $N$ have connected boundary, and let $f:N^{\\\\circ}\\\\to N^{\\\\circ}$ be a homeomorphism. Then, $[f]$ is in the image of\\n    \\\\[\\n        \\\\res:\\\\pi_0\\\\Top(N)\\\\to\\\\pi_0\\\\Top(N^{\\\\circ})\\n    \\\\]\\n    if and only if there exists a homeomorphism $t:W_f\\\\to\\\\partial{N}\\\\times I$.\\n\\\\end{prop}\\nThe proof is straightforward, so it is given in the appendix for now. Before moving on, we will highlight an important property of the cobordism determined by a homeomorphism of interiors.\",\n",
       " 'Let $N_0$, $N_1$, and $N_2$ be compact manifolds with boundary, and suppose that $f:N_0^{\\\\circ}\\\\to N_1^{\\\\circ}$ and $g:N_1^{\\\\circ}\\\\to N_2^{\\\\circ}$ are two homeomorphisms between interiors. Then, as the process of converting (isotopy classes of) invertible embeddings into (isomorphism classes of) invertible cobordisms is functorial, it is not hard to show that we have an isomorphism of cobordisms $W_{g\\\\circ f}\\\\cong W_f\\\\cup_{\\\\partial{N_1}}W_g$. This implies the following corollary:',\n",
       " '\\\\begin{cor}\\n    The image of the restriction map $\\\\res:\\\\pi_0\\\\Top(N)\\\\to\\\\pi_0\\\\Top(N^{\\\\circ})$ is a normal subgroup.\\n\\\\end{cor}\\n\\\\begin{proof}\\n    Let $[\\\\phi]\\\\in\\\\pi_0\\\\Top(N^{\\\\circ})$, and let $[g]\\\\in\\\\im(\\\\res)$, and set $f\\\\coloneq \\\\phi\\\\circ g\\\\circ\\\\phi^{-1}$. By \\\\cref{prop:image_of_res_iff_W_is_collar}, it suffices to show that the cobordism $W_f$ determined by $f$ is a cylinder. Indeed, as $g\\\\in\\\\im(\\\\res)$, there exists a homeomorphism $t:W_g\\\\to\\\\partial{N}\\\\times I$ again by \\\\cref{prop:image_of_res_iff_W_is_collar}. This implies:  \\n    \\\\[\\n        W_f \\\\cong W_{\\\\phi}\\\\cup_{\\\\partial{N}}W_g\\\\cup_{\\\\partial{N}}W_{\\\\phi^{-1}} \\\\cong W_{\\\\phi}\\\\cup_{\\\\partial{N}}(\\\\partial{N}\\\\times I)\\\\cup_{\\\\partial{N}}W_{\\\\phi^{-1}}\\\\cong W_{\\\\phi}\\\\cup_{\\\\partial{N}}W_{\\\\phi^{-1}} \\\\cong \\\\partial{N}\\\\times I\\n    \\\\]\\n    as needed. \\n\\\\end{proof}',\n",
       " 'Now, as promised we will use the above corollary to refine the condition guaranteeing that the mapping torus of a homeomorphism of an open manifold admits a vertical boundary closure. For a compact manifold $N$ with connected boundary, let $f:N^{\\\\circ}\\\\to N^{\\\\circ}$ be a homeomorphism. Then, the mapping torus $T_f$ of $f$ is the vertical interior of a bundle $T_g$ for some homeomorphism $g:N\\\\to N$ if and only if for some $\\\\phi\\\\in\\\\Top(N^{\\\\circ})$:\\n\\\\[\\n    [f] = [\\\\phi\\\\circ g|_{N^{\\\\circ}}\\\\circ\\\\phi^{-1}] = [\\\\phi]\\\\cdot[g|_{N^{\\\\circ}}]\\\\cdot[\\\\phi]^{-1} \\\\in \\\\pi_0\\\\Top(N^{\\\\circ}).\\n\\\\]\\nAs the image of the restriction map is a normal subgroup, the above is equivalent to the statement that $[f]\\\\in\\\\im(\\\\res)$. By \\\\cref{prop:image_of_res_iff_W_is_collar}, this is equivalent to the existence of a homeomorphism $t:W_f\\\\to\\\\partial{N}\\\\times I$. We have therefore shown:',\n",
       " '\\\\begin{cor}\\n    Let $N$ be a compact manifold with boundary, and let $f:N^{\\\\circ}\\\\to N^{\\\\circ}$ be a homeomorphism. Then, the following three conditions are equivalent:\\n    \\\\begin{enumerate}\\n    \\\\item $T_f$ admits a vertical boundary closure,\\n    \\\\item $f$ is isotopic to the restriction of a homeomorphism $g:N\\\\to N$,\\n    \\\\item the cobordism $W_f$ determined by $f$ is a collar.    \\n    \\\\end{enumerate}\\n\\\\end{cor}',\n",
       " '\\\\begin{remx}\\n    Note that this implies that given a compact manifold $N$ with boundary, and a homeomorphism $f:N^{\\\\circ}\\\\to N^{\\\\circ}$, the mapping torus $T_f$ will fail to admit a vertical boundary closure if and only if the cobordism $W_f$ determined by $f$ is inertial. Inertial cobordisms have been studied by Jahren and Kwasik in \\\\cite{jahren2018whitehead}.\\n\\\\end{remx}',\n",
       " 'The topological $h$-cobordism theorem gives more immediate consequences. \\n\\\\begin{cor}\\nLet $N$ be an compact manifold of $\\\\dim(N)\\\\geq 5$ with $\\\\partial{N}$ simply connected, and let $f:N^{\\\\circ}\\\\to N^{\\\\circ}$ be a homeomorphism of the interior. Then, \\n    \\\\begin{enumerate}\\n        \\\\item $f$ is isotopic to the restriction of a homeomorphism $g:N\\\\to N$. \\n        \\\\item The mapping torus $T_f$ admits a vertical boundary closure.\\n    \\\\end{enumerate}\\n\\\\end{cor}',\n",
       " 'The topological $s$-cobordism theorem is true for cobordisms $W$ of $\\\\dim(W)\\\\geq 6$. Thus we also have:\\n\\\\begin{cor}\\\\label{cor:s_cobordism_torus_bundle}\\nLet $N$ be a compact manifold of $\\\\dim(N)\\\\geq 6$ with $\\\\partial{N}$ connected, and let $f:N^{\\\\circ}\\\\to N^{\\\\circ}$ be a homeomorphism of the interior. Then, the following are equivalent:\\n\\\\begin{enumerate}\\n    \\\\item $\\\\tau(W_f,\\\\partial{N})=0$\\n    \\\\item $f$ is isotopic to the restriction of a homeomorphism $g:N\\\\to N$,    \\n    \\\\item the mapping torus $T_f$ admits a vertical boundary closure.\\n\\\\end{enumerate}\\n\\\\end{cor}',\n",
       " \"Recall that for two homotopy equivalences $f:X\\\\to X'$ and $g:Y\\\\to Y'$, the Whitehead torsion of the product $f\\\\times g:X\\\\times Y\\\\to X'\\\\times Y'$ is given by:\\n\\\\[\\n    \\\\tau(f\\\\times g) = \\\\chi(X)\\\\cdot j_*\\\\tau(g) + \\\\chi(Y)\\\\cdot i_*\\\\tau(f) \\n\\\\]\\nwhere $j$ and $i$ are the inclusions:\\n\\\\[\\n    X\\\\hookrightarrow X\\\\times Y\\\\quand Y\\\\hookrightarrow X\\\\times Y.\\n\\\\]\\nwhich satisfy $x\\\\mapsto (x,y_0)$ and $y\\\\mapsto (x_0,y)$ for some fixed basepoints $x_0\\\\in X$ and $y_0\\\\in Y$. In the event that $g = \\\\id_{S^1}:S^1\\\\to S^1$, we have:\\n\\\\[\\n    \\\\tau(f\\\\times\\\\id_{S^1}) = \\\\chi(X)\\\\cdot j_*\\\\tau(\\\\id_{S^1}) + \\\\chi(S^1)\\\\cdot i_*\\\\tau(f) = 0\\n\\\\]\\nby the topological invariance of Whitehead torsion, and $\\\\chi(S^1)=0$. \",\n",
       " \"With the above in mind, let $N$ be a compact manifold with boundary of $\\\\dim(N)\\\\geq 6$, and let $f:N^{\\\\circ}\\\\to N^{\\\\circ}$ be a homeomorphism. Form the mapping torus $T_f$ of $f$, and consider the product $T_f\\\\times S^1$. This gives a new bundle over $S^1$ with fiber $N^{\\\\circ}\\\\times S^1$:\\n\\\\[\\n    N^{\\\\circ}\\\\times S^1\\\\hookrightarrow T_f\\\\times S^1\\\\xrightarrow{\\\\ p\\\\circ\\\\pr_{T_f} \\\\ }S^1.\\n\\\\]\\nIt's not hard to show that this is the mapping torus of the homeomorphism $f\\\\times\\\\id_{S^1}:N^{\\\\circ}\\\\times S^1\\\\to N^{\\\\circ}\\\\times S^1$. Moreover, the cobordism determined by $f\\\\times\\\\id_{S^1}$ is exactly $W_f\\\\times S^1$, and the inclusion \\n\\\\[\\n    \\\\partial{N}\\\\times S^1\\\\hookrightarrow W_f\\\\times S^1\\n\\\\]\\nis the product of the original inclusion $\\\\partial{N}\\\\hookrightarrow W_f$ with the identity map $\\\\id_{S^1}$. Now, the computation above implies $\\\\tau(W_f\\\\times S^1,\\\\partial{N}\\\\times S^1)=0$. By \\\\cref{cor:s_cobordism_torus_bundle}, this implies that $T_f\\\\times S^1$ admits a vertical boundary closure.\",\n",
       " '\\\\begin{prop}\\nLet $f:N^{\\\\circ}\\\\to N^{\\\\circ}$ be an end preserving homeomorphism. Then, $[f]$ is in the image of\\n    \\\\[\\n        \\\\res:\\\\pi_0\\\\Top(N)\\\\to\\\\pi_0\\\\Top(N^{\\\\circ})\\n    \\\\]\\n    if and only if there exists a homeomorphism $t:W_f\\\\to\\\\partial{N}\\\\times I$.\\n\\\\end{prop}']"
      ]
     },
     "execution_count": 4,
     "metadata": {},
     "output_type": "execute_result"
    }
   ],
   "source": [
    "latex_code = assistant.chunkify('corpus/cobordisms/mapping_tori_cobordisms.tex')\n",
    "latex_code"
   ]
  },
  {
   "cell_type": "code",
   "execution_count": 5,
   "metadata": {},
   "outputs": [],
   "source": [
    "documents, vectors = assistant.generate_embeddings(latex_code, \"mapping_tori_cobordisms.tex\")"
   ]
  },
  {
   "cell_type": "code",
   "execution_count": 6,
   "metadata": {},
   "outputs": [
    {
     "data": {
      "text/plain": [
       "[Document(metadata={'filename': 'mapping_tori_cobordisms.tex', 'chunk_index': 0}, page_content=\"Let $N$ be a topological manifold with connected boundary. In this note, we'll show that the mapping torus $T_f$ of a self-homeomorphism $f:N^{\\\\circ}\\\\to N^{\\\\circ}$ of the interior admits a vertical boundary closure if and only if the $f$ is isotopic to the restriction of a homeomorphism $g:N\\\\to N$, if and only if the cobordism $W_f\\\\coloneq N\\\\setminus fj(N^{\\\\circ})$ determined by $f$ is a collar. The key step here is showing that the image of the restriction map $\\\\res:\\\\pi_0\\\\Top(N)\\\\to\\\\pi_0\\\\Top(N^{\\\\circ})$ is a normal subgroup. The topological $h$-cobordism and $s$-cobordism theorems give immediate consequences. We use these to show that stabilization by $S^1$ guarantees a boundary closure for a certain dimension range. \"),\n",
       " Document(metadata={'filename': 'mapping_tori_cobordisms.tex', 'chunk_index': 1}, page_content='Recall that for a self-homeomorphism $f:N\\\\to N$ of a space $N$, the \\\\term{mapping torus} is the bundle $T_f$ defined as the following quotient:\\n\\\\[\\n\\tN\\\\hookrightarrow T_f\\\\coloneq\\\\frac{N\\\\times I}{(x,0)\\\\sim(f(x),1)}\\\\xrightarrow{\\\\ p \\\\ }S^1\\n\\\\]\\nwhere the map to $S^1$ is the obvious projection. If $N$ is a compact manifold with boundary, then the vertical interior $\\\\Int_{S^1}(T_f)$ is the mapping torus bundle of the restriction $f|_{N^{\\\\circ}}$, and the vertical boundary $\\\\partial_vT_f$ is the mapping torus of the restriction $f|_{\\\\partial{N}}$. '),\n",
       " Document(metadata={'filename': 'mapping_tori_cobordisms.tex', 'chunk_index': 2}, page_content='We have the following well known classification theorem for mapping torus bundles:\\n\\\\begin{thm}\\n    Let $f,g:M\\\\to M$ be two self homeomorphisms of $M$ with $p_f:T_f\\\\to S^1$ and $p_g:T_g\\\\to S^1$ the bundle projections. Then, there exists a bundle isomorphism $T_f\\\\to T_g$ if and only if $[f]$ and $[g]$ are conjugate in $\\\\pi_0\\\\Top(M)$.\\n\\\\end{thm}'),\n",
       " Document(metadata={'filename': 'mapping_tori_cobordisms.tex', 'chunk_index': 3}, page_content='Immediately we have an implication for boundary closures of mapping tori of open manifolds. \\n\\\\begin{prop}\\nIf $M$ is the interior of a compact manifold $\\\\bar{M}$ with boundary, and $f:M\\\\to M$ is a homeomorphism, then the mapping torus $T_f$ is the interior of a bundle $E\\\\to S^1$ with fiber $\\\\bar{M}$ if and only if $f$ is isotopic to a conjugate of the restriction of a homeomorphism $\\\\bar{f}:\\\\bar{M}\\\\to\\\\bar{M}$ to the interior. \\n\\\\end{prop}'),\n",
       " Document(metadata={'filename': 'mapping_tori_cobordisms.tex', 'chunk_index': 4}, page_content=\"\\\\begin{defn}\\nLet $N$ and $N'$ be any two boundary closures of an open manifold $M$, and let $f:N^{\\\\circ}\\\\to(N')^{\\\\circ}$ be a homeomorphism between the interiors. Fix a locally flat isotopy inverse $j:N\\\\hookrightarrow N^{\\\\circ}$ of the inclusion $N^{\\\\circ}\\\\hookrightarrow N$. For the manifold\\n\\\\[\\n    W_f\\\\coloneq N'\\\\setminus fj(N^{\\\\circ}),\\n\\\\]\\nthe triple $(W_f,fj|_{\\\\partial{N}},i_{\\\\partial{N'}})$ will be referred to as the \\\\term{cobordism determined by $f$}, where $i_{\\\\partial{N'}}$ is the inclusion of the boundary.\\n\\\\end{defn}\"),\n",
       " Document(metadata={'filename': 'mapping_tori_cobordisms.tex', 'chunk_index': 5}, page_content=\"\\\\begin{remx}\\n    As any two locally flat embeddings $j,j':N\\\\hookrightarrow N^{\\\\circ}$ inverse to the inclusion $N^{\\\\circ}\\\\hookrightarrow N$ are locally flat isotopic, we are justified in calling $W_f$ \\\\emph{the} cobordism determined by $f$ (by the isotopy extension theorem).    \\n\\\\end{remx}\\n   \\nThe following theorem describes how the properties of $f$ and the properties of the cobordism $W_f$ are related. \\n\\\\begin{prop}\\\\label{prop:image_of_res_iff_W_is_collar}\\nLet $N$ have connected boundary, and let $f:N^{\\\\circ}\\\\to N^{\\\\circ}$ be a homeomorphism. Then, $[f]$ is in the image of\\n    \\\\[\\n        \\\\res:\\\\pi_0\\\\Top(N)\\\\to\\\\pi_0\\\\Top(N^{\\\\circ})\\n    \\\\]\\n    if and only if there exists a homeomorphism $t:W_f\\\\to\\\\partial{N}\\\\times I$.\\n\\\\end{prop}\\nThe proof is straightforward, so it is given in the appendix for now. Before moving on, we will highlight an important property of the cobordism determined by a homeomorphism of interiors.\"),\n",
       " Document(metadata={'filename': 'mapping_tori_cobordisms.tex', 'chunk_index': 6}, page_content='Let $N_0$, $N_1$, and $N_2$ be compact manifolds with boundary, and suppose that $f:N_0^{\\\\circ}\\\\to N_1^{\\\\circ}$ and $g:N_1^{\\\\circ}\\\\to N_2^{\\\\circ}$ are two homeomorphisms between interiors. Then, as the process of converting (isotopy classes of) invertible embeddings into (isomorphism classes of) invertible cobordisms is functorial, it is not hard to show that we have an isomorphism of cobordisms $W_{g\\\\circ f}\\\\cong W_f\\\\cup_{\\\\partial{N_1}}W_g$. This implies the following corollary:'),\n",
       " Document(metadata={'filename': 'mapping_tori_cobordisms.tex', 'chunk_index': 7}, page_content='\\\\begin{cor}\\n    The image of the restriction map $\\\\res:\\\\pi_0\\\\Top(N)\\\\to\\\\pi_0\\\\Top(N^{\\\\circ})$ is a normal subgroup.\\n\\\\end{cor}\\n\\\\begin{proof}\\n    Let $[\\\\phi]\\\\in\\\\pi_0\\\\Top(N^{\\\\circ})$, and let $[g]\\\\in\\\\im(\\\\res)$, and set $f\\\\coloneq \\\\phi\\\\circ g\\\\circ\\\\phi^{-1}$. By \\\\cref{prop:image_of_res_iff_W_is_collar}, it suffices to show that the cobordism $W_f$ determined by $f$ is a cylinder. Indeed, as $g\\\\in\\\\im(\\\\res)$, there exists a homeomorphism $t:W_g\\\\to\\\\partial{N}\\\\times I$ again by \\\\cref{prop:image_of_res_iff_W_is_collar}. This implies:  \\n    \\\\[\\n        W_f \\\\cong W_{\\\\phi}\\\\cup_{\\\\partial{N}}W_g\\\\cup_{\\\\partial{N}}W_{\\\\phi^{-1}} \\\\cong W_{\\\\phi}\\\\cup_{\\\\partial{N}}(\\\\partial{N}\\\\times I)\\\\cup_{\\\\partial{N}}W_{\\\\phi^{-1}}\\\\cong W_{\\\\phi}\\\\cup_{\\\\partial{N}}W_{\\\\phi^{-1}} \\\\cong \\\\partial{N}\\\\times I\\n    \\\\]\\n    as needed. \\n\\\\end{proof}'),\n",
       " Document(metadata={'filename': 'mapping_tori_cobordisms.tex', 'chunk_index': 8}, page_content='Now, as promised we will use the above corollary to refine the condition guaranteeing that the mapping torus of a homeomorphism of an open manifold admits a vertical boundary closure. For a compact manifold $N$ with connected boundary, let $f:N^{\\\\circ}\\\\to N^{\\\\circ}$ be a homeomorphism. Then, the mapping torus $T_f$ of $f$ is the vertical interior of a bundle $T_g$ for some homeomorphism $g:N\\\\to N$ if and only if for some $\\\\phi\\\\in\\\\Top(N^{\\\\circ})$:\\n\\\\[\\n    [f] = [\\\\phi\\\\circ g|_{N^{\\\\circ}}\\\\circ\\\\phi^{-1}] = [\\\\phi]\\\\cdot[g|_{N^{\\\\circ}}]\\\\cdot[\\\\phi]^{-1} \\\\in \\\\pi_0\\\\Top(N^{\\\\circ}).\\n\\\\]\\nAs the image of the restriction map is a normal subgroup, the above is equivalent to the statement that $[f]\\\\in\\\\im(\\\\res)$. By \\\\cref{prop:image_of_res_iff_W_is_collar}, this is equivalent to the existence of a homeomorphism $t:W_f\\\\to\\\\partial{N}\\\\times I$. We have therefore shown:'),\n",
       " Document(metadata={'filename': 'mapping_tori_cobordisms.tex', 'chunk_index': 9}, page_content='\\\\begin{cor}\\n    Let $N$ be a compact manifold with boundary, and let $f:N^{\\\\circ}\\\\to N^{\\\\circ}$ be a homeomorphism. Then, the following three conditions are equivalent:\\n    \\\\begin{enumerate}\\n    \\\\item $T_f$ admits a vertical boundary closure,\\n    \\\\item $f$ is isotopic to the restriction of a homeomorphism $g:N\\\\to N$,\\n    \\\\item the cobordism $W_f$ determined by $f$ is a collar.    \\n    \\\\end{enumerate}\\n\\\\end{cor}'),\n",
       " Document(metadata={'filename': 'mapping_tori_cobordisms.tex', 'chunk_index': 10}, page_content='\\\\begin{remx}\\n    Note that this implies that given a compact manifold $N$ with boundary, and a homeomorphism $f:N^{\\\\circ}\\\\to N^{\\\\circ}$, the mapping torus $T_f$ will fail to admit a vertical boundary closure if and only if the cobordism $W_f$ determined by $f$ is inertial. Inertial cobordisms have been studied by Jahren and Kwasik in \\\\cite{jahren2018whitehead}.\\n\\\\end{remx}'),\n",
       " Document(metadata={'filename': 'mapping_tori_cobordisms.tex', 'chunk_index': 11}, page_content='The topological $h$-cobordism theorem gives more immediate consequences. \\n\\\\begin{cor}\\nLet $N$ be an compact manifold of $\\\\dim(N)\\\\geq 5$ with $\\\\partial{N}$ simply connected, and let $f:N^{\\\\circ}\\\\to N^{\\\\circ}$ be a homeomorphism of the interior. Then, \\n    \\\\begin{enumerate}\\n        \\\\item $f$ is isotopic to the restriction of a homeomorphism $g:N\\\\to N$. \\n        \\\\item The mapping torus $T_f$ admits a vertical boundary closure.\\n    \\\\end{enumerate}\\n\\\\end{cor}'),\n",
       " Document(metadata={'filename': 'mapping_tori_cobordisms.tex', 'chunk_index': 12}, page_content='The topological $s$-cobordism theorem is true for cobordisms $W$ of $\\\\dim(W)\\\\geq 6$. Thus we also have:\\n\\\\begin{cor}\\\\label{cor:s_cobordism_torus_bundle}\\nLet $N$ be a compact manifold of $\\\\dim(N)\\\\geq 6$ with $\\\\partial{N}$ connected, and let $f:N^{\\\\circ}\\\\to N^{\\\\circ}$ be a homeomorphism of the interior. Then, the following are equivalent:\\n\\\\begin{enumerate}\\n    \\\\item $\\\\tau(W_f,\\\\partial{N})=0$\\n    \\\\item $f$ is isotopic to the restriction of a homeomorphism $g:N\\\\to N$,    \\n    \\\\item the mapping torus $T_f$ admits a vertical boundary closure.\\n\\\\end{enumerate}\\n\\\\end{cor}'),\n",
       " Document(metadata={'filename': 'mapping_tori_cobordisms.tex', 'chunk_index': 13}, page_content=\"Recall that for two homotopy equivalences $f:X\\\\to X'$ and $g:Y\\\\to Y'$, the Whitehead torsion of the product $f\\\\times g:X\\\\times Y\\\\to X'\\\\times Y'$ is given by:\\n\\\\[\\n    \\\\tau(f\\\\times g) = \\\\chi(X)\\\\cdot j_*\\\\tau(g) + \\\\chi(Y)\\\\cdot i_*\\\\tau(f) \\n\\\\]\\nwhere $j$ and $i$ are the inclusions:\\n\\\\[\\n    X\\\\hookrightarrow X\\\\times Y\\\\quand Y\\\\hookrightarrow X\\\\times Y.\\n\\\\]\\nwhich satisfy $x\\\\mapsto (x,y_0)$ and $y\\\\mapsto (x_0,y)$ for some fixed basepoints $x_0\\\\in X$ and $y_0\\\\in Y$. In the event that $g = \\\\id_{S^1}:S^1\\\\to S^1$, we have:\\n\\\\[\\n    \\\\tau(f\\\\times\\\\id_{S^1}) = \\\\chi(X)\\\\cdot j_*\\\\tau(\\\\id_{S^1}) + \\\\chi(S^1)\\\\cdot i_*\\\\tau(f) = 0\\n\\\\]\\nby the topological invariance of Whitehead torsion, and $\\\\chi(S^1)=0$. \"),\n",
       " Document(metadata={'filename': 'mapping_tori_cobordisms.tex', 'chunk_index': 14}, page_content=\"With the above in mind, let $N$ be a compact manifold with boundary of $\\\\dim(N)\\\\geq 6$, and let $f:N^{\\\\circ}\\\\to N^{\\\\circ}$ be a homeomorphism. Form the mapping torus $T_f$ of $f$, and consider the product $T_f\\\\times S^1$. This gives a new bundle over $S^1$ with fiber $N^{\\\\circ}\\\\times S^1$:\\n\\\\[\\n    N^{\\\\circ}\\\\times S^1\\\\hookrightarrow T_f\\\\times S^1\\\\xrightarrow{\\\\ p\\\\circ\\\\pr_{T_f} \\\\ }S^1.\\n\\\\]\\nIt's not hard to show that this is the mapping torus of the homeomorphism $f\\\\times\\\\id_{S^1}:N^{\\\\circ}\\\\times S^1\\\\to N^{\\\\circ}\\\\times S^1$. Moreover, the cobordism determined by $f\\\\times\\\\id_{S^1}$ is exactly $W_f\\\\times S^1$, and the inclusion \\n\\\\[\\n    \\\\partial{N}\\\\times S^1\\\\hookrightarrow W_f\\\\times S^1\\n\\\\]\\nis the product of the original inclusion $\\\\partial{N}\\\\hookrightarrow W_f$ with the identity map $\\\\id_{S^1}$. Now, the computation above implies $\\\\tau(W_f\\\\times S^1,\\\\partial{N}\\\\times S^1)=0$. By \\\\cref{cor:s_cobordism_torus_bundle}, this implies that $T_f\\\\times S^1$ admits a vertical boundary closure.\"),\n",
       " Document(metadata={'filename': 'mapping_tori_cobordisms.tex', 'chunk_index': 15}, page_content='\\\\begin{prop}\\nLet $f:N^{\\\\circ}\\\\to N^{\\\\circ}$ be an end preserving homeomorphism. Then, $[f]$ is in the image of\\n    \\\\[\\n        \\\\res:\\\\pi_0\\\\Top(N)\\\\to\\\\pi_0\\\\Top(N^{\\\\circ})\\n    \\\\]\\n    if and only if there exists a homeomorphism $t:W_f\\\\to\\\\partial{N}\\\\times I$.\\n\\\\end{prop}')]"
      ]
     },
     "execution_count": 6,
     "metadata": {},
     "output_type": "execute_result"
    }
   ],
   "source": [
    "documents"
   ]
  },
  {
   "cell_type": "code",
   "execution_count": 9,
   "metadata": {},
   "outputs": [],
   "source": [
    "assistant.upsert_into_collection(documents, vectors, \"personal_notes\")"
   ]
  },
  {
   "cell_type": "code",
   "execution_count": 7,
   "metadata": {},
   "outputs": [
    {
     "name": "stdout",
     "output_type": "stream",
     "text": [
      "Score: 0.8234907\n",
      "Filename: mapping_tori_cobordisms.tex\n",
      "Content: The topological $s$-cobordism theorem is true for cobordisms $W$ of $\\dim(W)\\geq 6$. Thus we also have:\n",
      "\\begin{cor}\\label{cor:s_cobordism_torus_bundle}\n",
      "Let $N$ be a compact manifold of $\\dim(N)\\geq 6$ with $\\partial{N}$ connected, and let $f:N^{\\circ}\\to N^{\\circ}$ be a homeomorphism of the interior. Then, the following are equivalent:\n",
      "\\begin{enumerate}\n",
      "    \\item $\\tau(W_f,\\partial{N})=0$\n",
      "    \\item $f$ is isotopic to the restriction of a homeomorphism $g:N\\to N$,    \n",
      "    \\item the mapping torus $T_f$ admits a vertical boundary closure.\n",
      "\\end{enumerate}\n",
      "\\end{cor}\n",
      "---\n",
      "Score: 0.8178004\n",
      "Filename: mapping_tori_cobordisms.tex\n",
      "Content: \\begin{defn}\n",
      "Let $N$ and $N'$ be any two boundary closures of an open manifold $M$, and let $f:N^{\\circ}\\to(N')^{\\circ}$ be a homeomorphism between the interiors. Fix a locally flat isotopy inverse $j:N\\hookrightarrow N^{\\circ}$ of the inclusion $N^{\\circ}\\hookrightarrow N$. For the manifold\n",
      "\\[\n",
      "    W_f\\coloneq N'\\setminus fj(N^{\\circ}),\n",
      "\\]\n",
      "the triple $(W_f,fj|_{\\partial{N}},i_{\\partial{N'}})$ will be referred to as the \\term{cobordism determined by $f$}, where $i_{\\partial{N'}}$ is the inclusion of the boundary.\n",
      "\\end{defn}\n",
      "---\n",
      "Score: 0.8153194\n",
      "Filename: mapping_tori_cobordisms.tex\n",
      "Content: The topological $h$-cobordism theorem gives more immediate consequences. \n",
      "\\begin{cor}\n",
      "Let $N$ be an compact manifold of $\\dim(N)\\geq 5$ with $\\partial{N}$ simply connected, and let $f:N^{\\circ}\\to N^{\\circ}$ be a homeomorphism of the interior. Then, \n",
      "    \\begin{enumerate}\n",
      "        \\item $f$ is isotopic to the restriction of a homeomorphism $g:N\\to N$. \n",
      "        \\item The mapping torus $T_f$ admits a vertical boundary closure.\n",
      "    \\end{enumerate}\n",
      "\\end{cor}\n",
      "---\n"
     ]
    }
   ],
   "source": [
    "assistant.query_collection(\"personal_notes\", \"cobordism\")"
   ]
  }
 ],
 "metadata": {
  "kernelspec": {
   "display_name": "rag",
   "language": "python",
   "name": "python3"
  },
  "language_info": {
   "codemirror_mode": {
    "name": "ipython",
    "version": 3
   },
   "file_extension": ".py",
   "mimetype": "text/x-python",
   "name": "python",
   "nbconvert_exporter": "python",
   "pygments_lexer": "ipython3",
   "version": "3.11.11"
  }
 },
 "nbformat": 4,
 "nbformat_minor": 2
}
