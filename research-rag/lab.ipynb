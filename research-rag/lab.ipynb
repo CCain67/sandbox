{
 "cells": [
  {
   "cell_type": "code",
   "execution_count": 7,
   "metadata": {},
   "outputs": [],
   "source": [
    "import assistant\n",
    "\n",
    "from assistant.agent.researcher import researcher\n",
    "\n",
    "from langchain_openai import ChatOpenAI\n",
    "from langchain.prompts import PromptTemplate\n",
    "from langchain.chains import LLMChain\n",
    "from langchain.memory import ConversationBufferMemory\n",
    "from langchain.agents import initialize_agent, AgentType\n",
    "\n",
    "from assistant.config import OPENAI_API_KEY, LLM\n",
    "from assistant.agent.tools import search_tool"
   ]
  },
  {
   "cell_type": "code",
   "execution_count": 5,
   "metadata": {},
   "outputs": [
    {
     "name": "stdout",
     "output_type": "stream",
     "text": [
      "\n",
      "\n",
      "\u001b[1m> Entering new AgentExecutor chain...\u001b[0m\n",
      "\u001b[32;1m\u001b[1;3mTo investigate the relationship between mapping tori and cobordisms, I should first consider the definitions and properties of these mathematical concepts. Mapping tori are constructed from a topological space and a self-homeomorphism, while cobordisms are a way to study manifolds by considering them as boundaries of higher-dimensional manifolds. I will search for relevant information in the document database to see if there are any notes or references that discuss their relationship.\n",
      "\n",
      "Action: Document Search\n",
      "Action Input: \"mapping tori and cobordisms relationship\"\u001b[0m\n",
      "Observation: \u001b[36;1m\u001b[1;3mContext 1: The topological $s$-cobordism theorem is true for cobordisms $W$ of $\\dim(W)\\geq 6$. Thus we also have:\n",
      "\\begin{cor}\\label{cor:s_cobordism_torus_bundle}\n",
      "Let $N$ be a compact manifold of $\\dim(N)\\geq 6$ with $\\partial{N}$ connected, and let $f:N^{\\circ}\\to N^{\\circ}$ be a homeomorphism of the interior. Then, the following are equivalent:\n",
      "\\begin{enumerate}\n",
      "    \\item $\\tau(W_f,\\partial{N})=0$\n",
      "    \\item $f$ is isotopic to the restriction of a homeomorphism $g:N\\to N$,    \n",
      "    \\item the mapping torus $T_f$ admits a vertical boundary closure.\n",
      "\\end{enumerate}\n",
      "\\end{cor}\n",
      "Context 2: Let $N$ be a topological manifold with connected boundary. In this note, we'll show that the mapping torus $T_f$ of a self-homeomorphism $f:N^{\\circ}\\to N^{\\circ}$ of the interior admits a vertical boundary closure if and only if the $f$ is isotopic to the restriction of a homeomorphism $g:N\\to N$, if and only if the cobordism $W_f\\coloneq N\\setminus fj(N^{\\circ})$ determined by $f$ is a collar. The key step here is showing that the image of the restriction map $\\res:\\pi_0\\Top(N)\\to\\pi_0\\Top(N^{\\circ})$ is a normal subgroup. The topological $h$-cobordism and $s$-cobordism theorems give immediate consequences. We use these to show that stabilization by $S^1$ guarantees a boundary closure for a certain dimension range. \n",
      "Context 3: Immediately we have an implication for boundary closures of mapping tori of open manifolds. \n",
      "\\begin{prop}\n",
      "If $M$ is the interior of a compact manifold $\\bar{M}$ with boundary, and $f:M\\to M$ is a homeomorphism, then the mapping torus $T_f$ is the interior of a bundle $E\\to S^1$ with fiber $\\bar{M}$ if and only if $f$ is isotopic to a conjugate of the restriction of a homeomorphism $\\bar{f}:\\bar{M}\\to\\bar{M}$ to the interior. \n",
      "\\end{prop}\u001b[0m\n",
      "Thought:\u001b[32;1m\u001b[1;3mThe observations from the document search provide insights into the relationship between mapping tori and cobordisms. The key points are:\n",
      "\n",
      "1. **Mapping Tori and Cobordisms**: The mapping torus \\( T_f \\) of a self-homeomorphism \\( f: N^{\\circ} \\to N^{\\circ} \\) is related to cobordisms through the concept of boundary closures. Specifically, the mapping torus admits a vertical boundary closure if and only if the self-homeomorphism \\( f \\) is isotopic to the restriction of a homeomorphism \\( g: N \\to N \\).\n",
      "\n",
      "2. **Cobordism Theorems**: The topological \\( s \\)-cobordism theorem and \\( h \\)-cobordism theorem play a role in understanding these relationships. They provide conditions under which certain cobordisms can be considered collars, which in turn relates to the properties of the mapping torus.\n",
      "\n",
      "3. **Stabilization and Boundary Closure**: Stabilization by \\( S^1 \\) (the circle) can guarantee a boundary closure for mapping tori in certain dimension ranges. This suggests a method for constructing or analyzing mapping tori in the context of cobordisms.\n",
      "\n",
      "4. **Implications for Bundles**: There is a specific condition under which the mapping torus \\( T_f \\) can be seen as the interior of a bundle over \\( S^1 \\) with fiber \\( \\bar{M} \\). This occurs if the homeomorphism \\( f \\) is isotopic to a conjugate of the restriction of a homeomorphism \\( \\bar{f}: \\bar{M} \\to \\bar{M} \\).\n",
      "\n",
      "Final Answer: The relationship between mapping tori and cobordisms involves the concept of boundary closures and isotopy of homeomorphisms. Mapping tori admit a vertical boundary closure if the self-homeomorphism is isotopic to a restriction of a homeomorphism, and cobordism theorems provide conditions for this. Stabilization by \\( S^1 \\) can ensure boundary closure in certain dimensions, and mapping tori can be seen as bundles over \\( S^1 \\) under specific isotopy conditions.\u001b[0m\n",
      "\n",
      "\u001b[1m> Finished chain.\u001b[0m\n",
      "Agent Response:\n",
      "The relationship between mapping tori and cobordisms involves the concept of boundary closures and isotopy of homeomorphisms. Mapping tori admit a vertical boundary closure if the self-homeomorphism is isotopic to a restriction of a homeomorphism, and cobordism theorems provide conditions for this. Stabilization by \\( S^1 \\) can ensure boundary closure in certain dimensions, and mapping tori can be seen as bundles over \\( S^1 \\) under specific isotopy conditions.\n"
     ]
    }
   ],
   "source": [
    "# Example query for the agent\n",
    "query = \"Investigate the relationship between mapping tori and cobordisms.\"\n",
    "response = researcher.run(query)\n",
    "\n",
    "print(\"Agent Response:\")\n",
    "print(response)"
   ]
  },
  {
   "cell_type": "code",
   "execution_count": 8,
   "metadata": {},
   "outputs": [
    {
     "name": "stdout",
     "output_type": "stream",
     "text": [
      "To understand the concept of a cobordism determined by a homeomorphism between the interiors of two compact manifolds with boundary, let's unpack the definition and explore the related concepts outlined in the notes.\n",
      "\n",
      "### Definitions and Concepts\n",
      "\n",
      "1. **Manifold with Boundary:** \n",
      "   - A **manifold with boundary** is a space that locally looks like Euclidean space, except at the boundary. The boundary of a manifold is itself a manifold whose dimension is one less than that of the manifold.\n",
      "\n",
      "2. **Open Manifold:**\n",
      "   - An **open manifold** is a manifold without a boundary.\n",
      "\n",
      "3. **Boundary Closure:**\n",
      "   - A **boundary closure** \\(N\\) of an open manifold \\(M\\) is a compact manifold such that its interior is homeomorphic to \\(M\\).\n",
      "\n",
      "4. **Homeomorphism:** \n",
      "   - A **homeomorphism** is a continuous function between topological spaces that has a continuous inverse, indicating that two spaces are topologically the same.\n",
      "\n",
      "5. **Cobordism:** \n",
      "   - A **cobordism** between \\(n\\)-dimensional manifolds \\(N\\) and \\(N'\\) is an \\((n+1)\\)-dimensional manifold whose boundary is the disjoint union of \\(N\\) and \\(N'\\).\n",
      "\n",
      "### Cobordism Determined by a Homeomorphism\n",
      "\n",
      "Given:\n",
      "- Two boundary closures \\(N\\) and \\(N'\\) of an open manifold \\(M\\).\n",
      "- A homeomorphism \\(f: N^\\circ \\to (N')^\\circ\\) (between their interiors).\n",
      "- A locally flat isotopy inverse \\(j\\) of the inclusion of the interior \\(N^{\\circ} \\hookrightarrow N\\).\n",
      "\n",
      "The **cobordism determined by \\(f\\)** is constructed as follows:\n",
      "\n",
      "- \\(W_f = N' \\setminus fj(N^{\\circ})\\): This is the manifold obtained from \\(N'\\) by removing the image under \\(fj\\) of the interior of \\(N\\). Effectively, you take \\(N'\\), \"cut out\" the portion corresponding to the interior of \\(N\\) as transformed by \\(f\\), yielding a new manifold.\n",
      "  \n",
      "- The cobordism is formalized by the triple \\((W_f, fj|_{\\partial{N}}, i_{\\partial{N'}})\\), where:\n",
      "  - \\(fj|_{\\partial{N}}\\) is the restriction of \\(fj\\) to the boundary of \\(N\\).\n",
      "  - \\(i_{\\partial{N'}}\\) is the inclusion of the boundary of \\(N'\\) into \\(N'\\).\n",
      "\n",
      "### Visualization and Understanding\n",
      "\n",
      "- **Conceptually,** this means \\(N\\) and \\(N'\\) are \"connected\" through a manifold \\(W_f\\), which contains the data of the transition as determined by the homeomorphism \\(f\\).\n",
      "  \n",
      "- **Intuitively,** you can think of \\(W_f\\) as the \"negative space\" or remainder in \\(N'\\) once \\(fj(N^\\circ)\\) has been removed.\n",
      "\n",
      "### Related Theorems\n",
      "\n",
      "The notes reference the **topological \\(h\\)-cobordism theorem** in higher dimensions (\\(\\dim(N) \\geq 5\\)), which has implications for how manifolds relate via homeomorphisms and cobordisms. In particular, it ensures that certain homeomorphisms are extendable over the entire manifold, not just on interiors, and provide conditions for constructing mapping tori.\n",
      "\n",
      "### Functoriality in Cobordism\n",
      "\n",
      "From context 3, there's an important aspect that cobordisms constructed from homeomorphic interiors can be composed. Namely, given a composition of homeomorphisms \\(g \\circ f\\), you find that the cobordism for this composition \\(W_{g\\circ f}\\) is isomorphic to the \"glued\" cobordisms \\(W_f\\) and \\(W_g\\), reflecting a sort of categorical composition or functoriality of cobordism.\n",
      "\n",
      "**Summary:**\n",
      "\n",
      "A cobordism determined by a homeomorphism between the interiors of compact manifolds with boundary is effectively a way to transition and relate these manifolds through a third intermediate manifold. This intermediate manifold embodies the change dictated by the homeomorphism, representing an equivalence or \"cobordism\" class that connects the boundaries of these manifolds.\n"
     ]
    }
   ],
   "source": [
    "assistant.ask(\"Suppose I have a homeomorphism between the interiors of two compact manifolds with boundary. What is the cobordism determined by this homeomorphism?\")"
   ]
  },
  {
   "cell_type": "markdown",
   "metadata": {},
   "source": [
    "### Adding new data"
   ]
  },
  {
   "cell_type": "code",
   "execution_count": 4,
   "metadata": {},
   "outputs": [
    {
     "data": {
      "text/plain": [
       "[\"Let $N$ be a topological manifold with connected boundary. In this note, we'll show that the mapping torus $T_f$ of a self-homeomorphism $f:N^{\\\\circ}\\\\to N^{\\\\circ}$ of the interior admits a vertical boundary closure if and only if the $f$ is isotopic to the restriction of a homeomorphism $g:N\\\\to N$, if and only if the cobordism $W_f\\\\coloneq N\\\\setminus fj(N^{\\\\circ})$ determined by $f$ is a collar. The key step here is showing that the image of the restriction map $\\\\res:\\\\pi_0\\\\Top(N)\\\\to\\\\pi_0\\\\Top(N^{\\\\circ})$ is a normal subgroup. The topological $h$-cobordism and $s$-cobordism theorems give immediate consequences. We use these to show that stabilization by $S^1$ guarantees a boundary closure for a certain dimension range. \",\n",
       " 'Recall that for a self-homeomorphism $f:N\\\\to N$ of a space $N$, the \\\\term{mapping torus} is the bundle $T_f$ defined as the following quotient:\\n\\\\[\\n\\tN\\\\hookrightarrow T_f\\\\coloneq\\\\frac{N\\\\times I}{(x,0)\\\\sim(f(x),1)}\\\\xrightarrow{\\\\ p \\\\ }S^1\\n\\\\]\\nwhere the map to $S^1$ is the obvious projection. If $N$ is a compact manifold with boundary, then the vertical interior $\\\\Int_{S^1}(T_f)$ is the mapping torus bundle of the restriction $f|_{N^{\\\\circ}}$, and the vertical boundary $\\\\partial_vT_f$ is the mapping torus of the restriction $f|_{\\\\partial{N}}$. ',\n",
       " 'We have the following well known classification theorem for mapping torus bundles:\\n\\\\begin{thm}\\n    Let $f,g:M\\\\to M$ be two self homeomorphisms of $M$ with $p_f:T_f\\\\to S^1$ and $p_g:T_g\\\\to S^1$ the bundle projections. Then, there exists a bundle isomorphism $T_f\\\\to T_g$ if and only if $[f]$ and $[g]$ are conjugate in $\\\\pi_0\\\\Top(M)$.\\n\\\\end{thm}',\n",
       " 'Immediately we have an implication for boundary closures of mapping tori of open manifolds. \\n\\\\begin{prop}\\nIf $M$ is the interior of a compact manifold $\\\\bar{M}$ with boundary, and $f:M\\\\to M$ is a homeomorphism, then the mapping torus $T_f$ is the interior of a bundle $E\\\\to S^1$ with fiber $\\\\bar{M}$ if and only if $f$ is isotopic to a conjugate of the restriction of a homeomorphism $\\\\bar{f}:\\\\bar{M}\\\\to\\\\bar{M}$ to the interior. \\n\\\\end{prop}',\n",
       " \"\\\\begin{defn}\\nLet $N$ and $N'$ be any two boundary closures of an open manifold $M$, and let $f:N^{\\\\circ}\\\\to(N')^{\\\\circ}$ be a homeomorphism between the interiors. Fix a locally flat isotopy inverse $j:N\\\\hookrightarrow N^{\\\\circ}$ of the inclusion $N^{\\\\circ}\\\\hookrightarrow N$. For the manifold\\n\\\\[\\n    W_f\\\\coloneq N'\\\\setminus fj(N^{\\\\circ}),\\n\\\\]\\nthe triple $(W_f,fj|_{\\\\partial{N}},i_{\\\\partial{N'}})$ will be referred to as the \\\\term{cobordism determined by $f$}, where $i_{\\\\partial{N'}}$ is the inclusion of the boundary.\\n\\\\end{defn}\",\n",
       " \"\\\\begin{remx}\\n    As any two locally flat embeddings $j,j':N\\\\hookrightarrow N^{\\\\circ}$ inverse to the inclusion $N^{\\\\circ}\\\\hookrightarrow N$ are locally flat isotopic, we are justified in calling $W_f$ \\\\emph{the} cobordism determined by $f$ (by the isotopy extension theorem).    \\n\\\\end{remx}\\n   \\nThe following theorem describes how the properties of $f$ and the properties of the cobordism $W_f$ are related. \\n\\\\begin{prop}\\\\label{prop:image_of_res_iff_W_is_collar}\\nLet $N$ have connected boundary, and let $f:N^{\\\\circ}\\\\to N^{\\\\circ}$ be a homeomorphism. Then, $[f]$ is in the image of\\n    \\\\[\\n        \\\\res:\\\\pi_0\\\\Top(N)\\\\to\\\\pi_0\\\\Top(N^{\\\\circ})\\n    \\\\]\\n    if and only if there exists a homeomorphism $t:W_f\\\\to\\\\partial{N}\\\\times I$.\\n\\\\end{prop}\\nThe proof is straightforward, so it is given in the appendix for now. Before moving on, we will highlight an important property of the cobordism determined by a homeomorphism of interiors.\",\n",
       " 'Let $N_0$, $N_1$, and $N_2$ be compact manifolds with boundary, and suppose that $f:N_0^{\\\\circ}\\\\to N_1^{\\\\circ}$ and $g:N_1^{\\\\circ}\\\\to N_2^{\\\\circ}$ are two homeomorphisms between interiors. Then, as the process of converting (isotopy classes of) invertible embeddings into (isomorphism classes of) invertible cobordisms is functorial, it is not hard to show that we have an isomorphism of cobordisms $W_{g\\\\circ f}\\\\cong W_f\\\\cup_{\\\\partial{N_1}}W_g$. This implies the following corollary:',\n",
       " '\\\\begin{cor}\\n    The image of the restriction map $\\\\res:\\\\pi_0\\\\Top(N)\\\\to\\\\pi_0\\\\Top(N^{\\\\circ})$ is a normal subgroup.\\n\\\\end{cor}\\n\\\\begin{proof}\\n    Let $[\\\\phi]\\\\in\\\\pi_0\\\\Top(N^{\\\\circ})$, and let $[g]\\\\in\\\\im(\\\\res)$, and set $f\\\\coloneq \\\\phi\\\\circ g\\\\circ\\\\phi^{-1}$. By \\\\cref{prop:image_of_res_iff_W_is_collar}, it suffices to show that the cobordism $W_f$ determined by $f$ is a cylinder. Indeed, as $g\\\\in\\\\im(\\\\res)$, there exists a homeomorphism $t:W_g\\\\to\\\\partial{N}\\\\times I$ again by \\\\cref{prop:image_of_res_iff_W_is_collar}. This implies:  \\n    \\\\[\\n        W_f \\\\cong W_{\\\\phi}\\\\cup_{\\\\partial{N}}W_g\\\\cup_{\\\\partial{N}}W_{\\\\phi^{-1}} \\\\cong W_{\\\\phi}\\\\cup_{\\\\partial{N}}(\\\\partial{N}\\\\times I)\\\\cup_{\\\\partial{N}}W_{\\\\phi^{-1}}\\\\cong W_{\\\\phi}\\\\cup_{\\\\partial{N}}W_{\\\\phi^{-1}} \\\\cong \\\\partial{N}\\\\times I\\n    \\\\]\\n    as needed. \\n\\\\end{proof}',\n",
       " 'Now, as promised we will use the above corollary to refine the condition guaranteeing that the mapping torus of a homeomorphism of an open manifold admits a vertical boundary closure. For a compact manifold $N$ with connected boundary, let $f:N^{\\\\circ}\\\\to N^{\\\\circ}$ be a homeomorphism. Then, the mapping torus $T_f$ of $f$ is the vertical interior of a bundle $T_g$ for some homeomorphism $g:N\\\\to N$ if and only if for some $\\\\phi\\\\in\\\\Top(N^{\\\\circ})$:\\n\\\\[\\n    [f] = [\\\\phi\\\\circ g|_{N^{\\\\circ}}\\\\circ\\\\phi^{-1}] = [\\\\phi]\\\\cdot[g|_{N^{\\\\circ}}]\\\\cdot[\\\\phi]^{-1} \\\\in \\\\pi_0\\\\Top(N^{\\\\circ}).\\n\\\\]\\nAs the image of the restriction map is a normal subgroup, the above is equivalent to the statement that $[f]\\\\in\\\\im(\\\\res)$. By \\\\cref{prop:image_of_res_iff_W_is_collar}, this is equivalent to the existence of a homeomorphism $t:W_f\\\\to\\\\partial{N}\\\\times I$. We have therefore shown:',\n",
       " '\\\\begin{cor}\\n    Let $N$ be a compact manifold with boundary, and let $f:N^{\\\\circ}\\\\to N^{\\\\circ}$ be a homeomorphism. Then, the following three conditions are equivalent:\\n    \\\\begin{enumerate}\\n    \\\\item $T_f$ admits a vertical boundary closure,\\n    \\\\item $f$ is isotopic to the restriction of a homeomorphism $g:N\\\\to N$,\\n    \\\\item the cobordism $W_f$ determined by $f$ is a collar.    \\n    \\\\end{enumerate}\\n\\\\end{cor}',\n",
       " '\\\\begin{remx}\\n    Note that this implies that given a compact manifold $N$ with boundary, and a homeomorphism $f:N^{\\\\circ}\\\\to N^{\\\\circ}$, the mapping torus $T_f$ will fail to admit a vertical boundary closure if and only if the cobordism $W_f$ determined by $f$ is inertial. Inertial cobordisms have been studied by Jahren and Kwasik in \\\\cite{jahren2018whitehead}.\\n\\\\end{remx}',\n",
       " 'The topological $h$-cobordism theorem gives more immediate consequences. \\n\\\\begin{cor}\\nLet $N$ be an compact manifold of $\\\\dim(N)\\\\geq 5$ with $\\\\partial{N}$ simply connected, and let $f:N^{\\\\circ}\\\\to N^{\\\\circ}$ be a homeomorphism of the interior. Then, \\n    \\\\begin{enumerate}\\n        \\\\item $f$ is isotopic to the restriction of a homeomorphism $g:N\\\\to N$. \\n        \\\\item The mapping torus $T_f$ admits a vertical boundary closure.\\n    \\\\end{enumerate}\\n\\\\end{cor}',\n",
       " 'The topological $s$-cobordism theorem is true for cobordisms $W$ of $\\\\dim(W)\\\\geq 6$. Thus we also have:\\n\\\\begin{cor}\\\\label{cor:s_cobordism_torus_bundle}\\nLet $N$ be a compact manifold of $\\\\dim(N)\\\\geq 6$ with $\\\\partial{N}$ connected, and let $f:N^{\\\\circ}\\\\to N^{\\\\circ}$ be a homeomorphism of the interior. Then, the following are equivalent:\\n\\\\begin{enumerate}\\n    \\\\item $\\\\tau(W_f,\\\\partial{N})=0$\\n    \\\\item $f$ is isotopic to the restriction of a homeomorphism $g:N\\\\to N$,    \\n    \\\\item the mapping torus $T_f$ admits a vertical boundary closure.\\n\\\\end{enumerate}\\n\\\\end{cor}',\n",
       " \"Recall that for two homotopy equivalences $f:X\\\\to X'$ and $g:Y\\\\to Y'$, the Whitehead torsion of the product $f\\\\times g:X\\\\times Y\\\\to X'\\\\times Y'$ is given by:\\n\\\\[\\n    \\\\tau(f\\\\times g) = \\\\chi(X)\\\\cdot j_*\\\\tau(g) + \\\\chi(Y)\\\\cdot i_*\\\\tau(f) \\n\\\\]\\nwhere $j$ and $i$ are the inclusions:\\n\\\\[\\n    X\\\\hookrightarrow X\\\\times Y\\\\quand Y\\\\hookrightarrow X\\\\times Y.\\n\\\\]\\nwhich satisfy $x\\\\mapsto (x,y_0)$ and $y\\\\mapsto (x_0,y)$ for some fixed basepoints $x_0\\\\in X$ and $y_0\\\\in Y$. In the event that $g = \\\\id_{S^1}:S^1\\\\to S^1$, we have:\\n\\\\[\\n    \\\\tau(f\\\\times\\\\id_{S^1}) = \\\\chi(X)\\\\cdot j_*\\\\tau(\\\\id_{S^1}) + \\\\chi(S^1)\\\\cdot i_*\\\\tau(f) = 0\\n\\\\]\\nby the topological invariance of Whitehead torsion, and $\\\\chi(S^1)=0$. \",\n",
       " \"With the above in mind, let $N$ be a compact manifold with boundary of $\\\\dim(N)\\\\geq 6$, and let $f:N^{\\\\circ}\\\\to N^{\\\\circ}$ be a homeomorphism. Form the mapping torus $T_f$ of $f$, and consider the product $T_f\\\\times S^1$. This gives a new bundle over $S^1$ with fiber $N^{\\\\circ}\\\\times S^1$:\\n\\\\[\\n    N^{\\\\circ}\\\\times S^1\\\\hookrightarrow T_f\\\\times S^1\\\\xrightarrow{\\\\ p\\\\circ\\\\pr_{T_f} \\\\ }S^1.\\n\\\\]\\nIt's not hard to show that this is the mapping torus of the homeomorphism $f\\\\times\\\\id_{S^1}:N^{\\\\circ}\\\\times S^1\\\\to N^{\\\\circ}\\\\times S^1$. Moreover, the cobordism determined by $f\\\\times\\\\id_{S^1}$ is exactly $W_f\\\\times S^1$, and the inclusion \\n\\\\[\\n    \\\\partial{N}\\\\times S^1\\\\hookrightarrow W_f\\\\times S^1\\n\\\\]\\nis the product of the original inclusion $\\\\partial{N}\\\\hookrightarrow W_f$ with the identity map $\\\\id_{S^1}$. Now, the computation above implies $\\\\tau(W_f\\\\times S^1,\\\\partial{N}\\\\times S^1)=0$. By \\\\cref{cor:s_cobordism_torus_bundle}, this implies that $T_f\\\\times S^1$ admits a vertical boundary closure.\",\n",
       " '\\\\begin{prop}\\nLet $f:N^{\\\\circ}\\\\to N^{\\\\circ}$ be an end preserving homeomorphism. Then, $[f]$ is in the image of\\n    \\\\[\\n        \\\\res:\\\\pi_0\\\\Top(N)\\\\to\\\\pi_0\\\\Top(N^{\\\\circ})\\n    \\\\]\\n    if and only if there exists a homeomorphism $t:W_f\\\\to\\\\partial{N}\\\\times I$.\\n\\\\end{prop}']"
      ]
     },
     "execution_count": 4,
     "metadata": {},
     "output_type": "execute_result"
    }
   ],
   "source": [
    "latex_code = assistant.chunkify('corpus/cobordisms/mapping_tori_cobordisms.tex')\n",
    "latex_code"
   ]
  },
  {
   "cell_type": "code",
   "execution_count": 5,
   "metadata": {},
   "outputs": [],
   "source": [
    "documents, vectors = assistant.generate_embeddings(latex_code, \"mapping_tori_cobordisms.tex\")"
   ]
  },
  {
   "cell_type": "code",
   "execution_count": 6,
   "metadata": {},
   "outputs": [
    {
     "data": {
      "text/plain": [
       "[Document(metadata={'filename': 'mapping_tori_cobordisms.tex', 'chunk_index': 0}, page_content=\"Let $N$ be a topological manifold with connected boundary. In this note, we'll show that the mapping torus $T_f$ of a self-homeomorphism $f:N^{\\\\circ}\\\\to N^{\\\\circ}$ of the interior admits a vertical boundary closure if and only if the $f$ is isotopic to the restriction of a homeomorphism $g:N\\\\to N$, if and only if the cobordism $W_f\\\\coloneq N\\\\setminus fj(N^{\\\\circ})$ determined by $f$ is a collar. The key step here is showing that the image of the restriction map $\\\\res:\\\\pi_0\\\\Top(N)\\\\to\\\\pi_0\\\\Top(N^{\\\\circ})$ is a normal subgroup. The topological $h$-cobordism and $s$-cobordism theorems give immediate consequences. We use these to show that stabilization by $S^1$ guarantees a boundary closure for a certain dimension range. \"),\n",
       " Document(metadata={'filename': 'mapping_tori_cobordisms.tex', 'chunk_index': 1}, page_content='Recall that for a self-homeomorphism $f:N\\\\to N$ of a space $N$, the \\\\term{mapping torus} is the bundle $T_f$ defined as the following quotient:\\n\\\\[\\n\\tN\\\\hookrightarrow T_f\\\\coloneq\\\\frac{N\\\\times I}{(x,0)\\\\sim(f(x),1)}\\\\xrightarrow{\\\\ p \\\\ }S^1\\n\\\\]\\nwhere the map to $S^1$ is the obvious projection. If $N$ is a compact manifold with boundary, then the vertical interior $\\\\Int_{S^1}(T_f)$ is the mapping torus bundle of the restriction $f|_{N^{\\\\circ}}$, and the vertical boundary $\\\\partial_vT_f$ is the mapping torus of the restriction $f|_{\\\\partial{N}}$. '),\n",
       " Document(metadata={'filename': 'mapping_tori_cobordisms.tex', 'chunk_index': 2}, page_content='We have the following well known classification theorem for mapping torus bundles:\\n\\\\begin{thm}\\n    Let $f,g:M\\\\to M$ be two self homeomorphisms of $M$ with $p_f:T_f\\\\to S^1$ and $p_g:T_g\\\\to S^1$ the bundle projections. Then, there exists a bundle isomorphism $T_f\\\\to T_g$ if and only if $[f]$ and $[g]$ are conjugate in $\\\\pi_0\\\\Top(M)$.\\n\\\\end{thm}'),\n",
       " Document(metadata={'filename': 'mapping_tori_cobordisms.tex', 'chunk_index': 3}, page_content='Immediately we have an implication for boundary closures of mapping tori of open manifolds. \\n\\\\begin{prop}\\nIf $M$ is the interior of a compact manifold $\\\\bar{M}$ with boundary, and $f:M\\\\to M$ is a homeomorphism, then the mapping torus $T_f$ is the interior of a bundle $E\\\\to S^1$ with fiber $\\\\bar{M}$ if and only if $f$ is isotopic to a conjugate of the restriction of a homeomorphism $\\\\bar{f}:\\\\bar{M}\\\\to\\\\bar{M}$ to the interior. \\n\\\\end{prop}'),\n",
       " Document(metadata={'filename': 'mapping_tori_cobordisms.tex', 'chunk_index': 4}, page_content=\"\\\\begin{defn}\\nLet $N$ and $N'$ be any two boundary closures of an open manifold $M$, and let $f:N^{\\\\circ}\\\\to(N')^{\\\\circ}$ be a homeomorphism between the interiors. Fix a locally flat isotopy inverse $j:N\\\\hookrightarrow N^{\\\\circ}$ of the inclusion $N^{\\\\circ}\\\\hookrightarrow N$. For the manifold\\n\\\\[\\n    W_f\\\\coloneq N'\\\\setminus fj(N^{\\\\circ}),\\n\\\\]\\nthe triple $(W_f,fj|_{\\\\partial{N}},i_{\\\\partial{N'}})$ will be referred to as the \\\\term{cobordism determined by $f$}, where $i_{\\\\partial{N'}}$ is the inclusion of the boundary.\\n\\\\end{defn}\"),\n",
       " Document(metadata={'filename': 'mapping_tori_cobordisms.tex', 'chunk_index': 5}, page_content=\"\\\\begin{remx}\\n    As any two locally flat embeddings $j,j':N\\\\hookrightarrow N^{\\\\circ}$ inverse to the inclusion $N^{\\\\circ}\\\\hookrightarrow N$ are locally flat isotopic, we are justified in calling $W_f$ \\\\emph{the} cobordism determined by $f$ (by the isotopy extension theorem).    \\n\\\\end{remx}\\n   \\nThe following theorem describes how the properties of $f$ and the properties of the cobordism $W_f$ are related. \\n\\\\begin{prop}\\\\label{prop:image_of_res_iff_W_is_collar}\\nLet $N$ have connected boundary, and let $f:N^{\\\\circ}\\\\to N^{\\\\circ}$ be a homeomorphism. Then, $[f]$ is in the image of\\n    \\\\[\\n        \\\\res:\\\\pi_0\\\\Top(N)\\\\to\\\\pi_0\\\\Top(N^{\\\\circ})\\n    \\\\]\\n    if and only if there exists a homeomorphism $t:W_f\\\\to\\\\partial{N}\\\\times I$.\\n\\\\end{prop}\\nThe proof is straightforward, so it is given in the appendix for now. Before moving on, we will highlight an important property of the cobordism determined by a homeomorphism of interiors.\"),\n",
       " Document(metadata={'filename': 'mapping_tori_cobordisms.tex', 'chunk_index': 6}, page_content='Let $N_0$, $N_1$, and $N_2$ be compact manifolds with boundary, and suppose that $f:N_0^{\\\\circ}\\\\to N_1^{\\\\circ}$ and $g:N_1^{\\\\circ}\\\\to N_2^{\\\\circ}$ are two homeomorphisms between interiors. Then, as the process of converting (isotopy classes of) invertible embeddings into (isomorphism classes of) invertible cobordisms is functorial, it is not hard to show that we have an isomorphism of cobordisms $W_{g\\\\circ f}\\\\cong W_f\\\\cup_{\\\\partial{N_1}}W_g$. This implies the following corollary:'),\n",
       " Document(metadata={'filename': 'mapping_tori_cobordisms.tex', 'chunk_index': 7}, page_content='\\\\begin{cor}\\n    The image of the restriction map $\\\\res:\\\\pi_0\\\\Top(N)\\\\to\\\\pi_0\\\\Top(N^{\\\\circ})$ is a normal subgroup.\\n\\\\end{cor}\\n\\\\begin{proof}\\n    Let $[\\\\phi]\\\\in\\\\pi_0\\\\Top(N^{\\\\circ})$, and let $[g]\\\\in\\\\im(\\\\res)$, and set $f\\\\coloneq \\\\phi\\\\circ g\\\\circ\\\\phi^{-1}$. By \\\\cref{prop:image_of_res_iff_W_is_collar}, it suffices to show that the cobordism $W_f$ determined by $f$ is a cylinder. Indeed, as $g\\\\in\\\\im(\\\\res)$, there exists a homeomorphism $t:W_g\\\\to\\\\partial{N}\\\\times I$ again by \\\\cref{prop:image_of_res_iff_W_is_collar}. This implies:  \\n    \\\\[\\n        W_f \\\\cong W_{\\\\phi}\\\\cup_{\\\\partial{N}}W_g\\\\cup_{\\\\partial{N}}W_{\\\\phi^{-1}} \\\\cong W_{\\\\phi}\\\\cup_{\\\\partial{N}}(\\\\partial{N}\\\\times I)\\\\cup_{\\\\partial{N}}W_{\\\\phi^{-1}}\\\\cong W_{\\\\phi}\\\\cup_{\\\\partial{N}}W_{\\\\phi^{-1}} \\\\cong \\\\partial{N}\\\\times I\\n    \\\\]\\n    as needed. \\n\\\\end{proof}'),\n",
       " Document(metadata={'filename': 'mapping_tori_cobordisms.tex', 'chunk_index': 8}, page_content='Now, as promised we will use the above corollary to refine the condition guaranteeing that the mapping torus of a homeomorphism of an open manifold admits a vertical boundary closure. For a compact manifold $N$ with connected boundary, let $f:N^{\\\\circ}\\\\to N^{\\\\circ}$ be a homeomorphism. Then, the mapping torus $T_f$ of $f$ is the vertical interior of a bundle $T_g$ for some homeomorphism $g:N\\\\to N$ if and only if for some $\\\\phi\\\\in\\\\Top(N^{\\\\circ})$:\\n\\\\[\\n    [f] = [\\\\phi\\\\circ g|_{N^{\\\\circ}}\\\\circ\\\\phi^{-1}] = [\\\\phi]\\\\cdot[g|_{N^{\\\\circ}}]\\\\cdot[\\\\phi]^{-1} \\\\in \\\\pi_0\\\\Top(N^{\\\\circ}).\\n\\\\]\\nAs the image of the restriction map is a normal subgroup, the above is equivalent to the statement that $[f]\\\\in\\\\im(\\\\res)$. By \\\\cref{prop:image_of_res_iff_W_is_collar}, this is equivalent to the existence of a homeomorphism $t:W_f\\\\to\\\\partial{N}\\\\times I$. We have therefore shown:'),\n",
       " Document(metadata={'filename': 'mapping_tori_cobordisms.tex', 'chunk_index': 9}, page_content='\\\\begin{cor}\\n    Let $N$ be a compact manifold with boundary, and let $f:N^{\\\\circ}\\\\to N^{\\\\circ}$ be a homeomorphism. Then, the following three conditions are equivalent:\\n    \\\\begin{enumerate}\\n    \\\\item $T_f$ admits a vertical boundary closure,\\n    \\\\item $f$ is isotopic to the restriction of a homeomorphism $g:N\\\\to N$,\\n    \\\\item the cobordism $W_f$ determined by $f$ is a collar.    \\n    \\\\end{enumerate}\\n\\\\end{cor}'),\n",
       " Document(metadata={'filename': 'mapping_tori_cobordisms.tex', 'chunk_index': 10}, page_content='\\\\begin{remx}\\n    Note that this implies that given a compact manifold $N$ with boundary, and a homeomorphism $f:N^{\\\\circ}\\\\to N^{\\\\circ}$, the mapping torus $T_f$ will fail to admit a vertical boundary closure if and only if the cobordism $W_f$ determined by $f$ is inertial. Inertial cobordisms have been studied by Jahren and Kwasik in \\\\cite{jahren2018whitehead}.\\n\\\\end{remx}'),\n",
       " Document(metadata={'filename': 'mapping_tori_cobordisms.tex', 'chunk_index': 11}, page_content='The topological $h$-cobordism theorem gives more immediate consequences. \\n\\\\begin{cor}\\nLet $N$ be an compact manifold of $\\\\dim(N)\\\\geq 5$ with $\\\\partial{N}$ simply connected, and let $f:N^{\\\\circ}\\\\to N^{\\\\circ}$ be a homeomorphism of the interior. Then, \\n    \\\\begin{enumerate}\\n        \\\\item $f$ is isotopic to the restriction of a homeomorphism $g:N\\\\to N$. \\n        \\\\item The mapping torus $T_f$ admits a vertical boundary closure.\\n    \\\\end{enumerate}\\n\\\\end{cor}'),\n",
       " Document(metadata={'filename': 'mapping_tori_cobordisms.tex', 'chunk_index': 12}, page_content='The topological $s$-cobordism theorem is true for cobordisms $W$ of $\\\\dim(W)\\\\geq 6$. Thus we also have:\\n\\\\begin{cor}\\\\label{cor:s_cobordism_torus_bundle}\\nLet $N$ be a compact manifold of $\\\\dim(N)\\\\geq 6$ with $\\\\partial{N}$ connected, and let $f:N^{\\\\circ}\\\\to N^{\\\\circ}$ be a homeomorphism of the interior. Then, the following are equivalent:\\n\\\\begin{enumerate}\\n    \\\\item $\\\\tau(W_f,\\\\partial{N})=0$\\n    \\\\item $f$ is isotopic to the restriction of a homeomorphism $g:N\\\\to N$,    \\n    \\\\item the mapping torus $T_f$ admits a vertical boundary closure.\\n\\\\end{enumerate}\\n\\\\end{cor}'),\n",
       " Document(metadata={'filename': 'mapping_tori_cobordisms.tex', 'chunk_index': 13}, page_content=\"Recall that for two homotopy equivalences $f:X\\\\to X'$ and $g:Y\\\\to Y'$, the Whitehead torsion of the product $f\\\\times g:X\\\\times Y\\\\to X'\\\\times Y'$ is given by:\\n\\\\[\\n    \\\\tau(f\\\\times g) = \\\\chi(X)\\\\cdot j_*\\\\tau(g) + \\\\chi(Y)\\\\cdot i_*\\\\tau(f) \\n\\\\]\\nwhere $j$ and $i$ are the inclusions:\\n\\\\[\\n    X\\\\hookrightarrow X\\\\times Y\\\\quand Y\\\\hookrightarrow X\\\\times Y.\\n\\\\]\\nwhich satisfy $x\\\\mapsto (x,y_0)$ and $y\\\\mapsto (x_0,y)$ for some fixed basepoints $x_0\\\\in X$ and $y_0\\\\in Y$. In the event that $g = \\\\id_{S^1}:S^1\\\\to S^1$, we have:\\n\\\\[\\n    \\\\tau(f\\\\times\\\\id_{S^1}) = \\\\chi(X)\\\\cdot j_*\\\\tau(\\\\id_{S^1}) + \\\\chi(S^1)\\\\cdot i_*\\\\tau(f) = 0\\n\\\\]\\nby the topological invariance of Whitehead torsion, and $\\\\chi(S^1)=0$. \"),\n",
       " Document(metadata={'filename': 'mapping_tori_cobordisms.tex', 'chunk_index': 14}, page_content=\"With the above in mind, let $N$ be a compact manifold with boundary of $\\\\dim(N)\\\\geq 6$, and let $f:N^{\\\\circ}\\\\to N^{\\\\circ}$ be a homeomorphism. Form the mapping torus $T_f$ of $f$, and consider the product $T_f\\\\times S^1$. This gives a new bundle over $S^1$ with fiber $N^{\\\\circ}\\\\times S^1$:\\n\\\\[\\n    N^{\\\\circ}\\\\times S^1\\\\hookrightarrow T_f\\\\times S^1\\\\xrightarrow{\\\\ p\\\\circ\\\\pr_{T_f} \\\\ }S^1.\\n\\\\]\\nIt's not hard to show that this is the mapping torus of the homeomorphism $f\\\\times\\\\id_{S^1}:N^{\\\\circ}\\\\times S^1\\\\to N^{\\\\circ}\\\\times S^1$. Moreover, the cobordism determined by $f\\\\times\\\\id_{S^1}$ is exactly $W_f\\\\times S^1$, and the inclusion \\n\\\\[\\n    \\\\partial{N}\\\\times S^1\\\\hookrightarrow W_f\\\\times S^1\\n\\\\]\\nis the product of the original inclusion $\\\\partial{N}\\\\hookrightarrow W_f$ with the identity map $\\\\id_{S^1}$. Now, the computation above implies $\\\\tau(W_f\\\\times S^1,\\\\partial{N}\\\\times S^1)=0$. By \\\\cref{cor:s_cobordism_torus_bundle}, this implies that $T_f\\\\times S^1$ admits a vertical boundary closure.\"),\n",
       " Document(metadata={'filename': 'mapping_tori_cobordisms.tex', 'chunk_index': 15}, page_content='\\\\begin{prop}\\nLet $f:N^{\\\\circ}\\\\to N^{\\\\circ}$ be an end preserving homeomorphism. Then, $[f]$ is in the image of\\n    \\\\[\\n        \\\\res:\\\\pi_0\\\\Top(N)\\\\to\\\\pi_0\\\\Top(N^{\\\\circ})\\n    \\\\]\\n    if and only if there exists a homeomorphism $t:W_f\\\\to\\\\partial{N}\\\\times I$.\\n\\\\end{prop}')]"
      ]
     },
     "execution_count": 6,
     "metadata": {},
     "output_type": "execute_result"
    }
   ],
   "source": [
    "documents"
   ]
  },
  {
   "cell_type": "code",
   "execution_count": 9,
   "metadata": {},
   "outputs": [],
   "source": [
    "assistant.upsert_into_collection(documents, vectors, \"personal_notes\")"
   ]
  },
  {
   "cell_type": "code",
   "execution_count": 7,
   "metadata": {},
   "outputs": [
    {
     "name": "stdout",
     "output_type": "stream",
     "text": [
      "Score: 0.8234907\n",
      "Filename: mapping_tori_cobordisms.tex\n",
      "Content: The topological $s$-cobordism theorem is true for cobordisms $W$ of $\\dim(W)\\geq 6$. Thus we also have:\n",
      "\\begin{cor}\\label{cor:s_cobordism_torus_bundle}\n",
      "Let $N$ be a compact manifold of $\\dim(N)\\geq 6$ with $\\partial{N}$ connected, and let $f:N^{\\circ}\\to N^{\\circ}$ be a homeomorphism of the interior. Then, the following are equivalent:\n",
      "\\begin{enumerate}\n",
      "    \\item $\\tau(W_f,\\partial{N})=0$\n",
      "    \\item $f$ is isotopic to the restriction of a homeomorphism $g:N\\to N$,    \n",
      "    \\item the mapping torus $T_f$ admits a vertical boundary closure.\n",
      "\\end{enumerate}\n",
      "\\end{cor}\n",
      "---\n",
      "Score: 0.8178004\n",
      "Filename: mapping_tori_cobordisms.tex\n",
      "Content: \\begin{defn}\n",
      "Let $N$ and $N'$ be any two boundary closures of an open manifold $M$, and let $f:N^{\\circ}\\to(N')^{\\circ}$ be a homeomorphism between the interiors. Fix a locally flat isotopy inverse $j:N\\hookrightarrow N^{\\circ}$ of the inclusion $N^{\\circ}\\hookrightarrow N$. For the manifold\n",
      "\\[\n",
      "    W_f\\coloneq N'\\setminus fj(N^{\\circ}),\n",
      "\\]\n",
      "the triple $(W_f,fj|_{\\partial{N}},i_{\\partial{N'}})$ will be referred to as the \\term{cobordism determined by $f$}, where $i_{\\partial{N'}}$ is the inclusion of the boundary.\n",
      "\\end{defn}\n",
      "---\n",
      "Score: 0.8153194\n",
      "Filename: mapping_tori_cobordisms.tex\n",
      "Content: The topological $h$-cobordism theorem gives more immediate consequences. \n",
      "\\begin{cor}\n",
      "Let $N$ be an compact manifold of $\\dim(N)\\geq 5$ with $\\partial{N}$ simply connected, and let $f:N^{\\circ}\\to N^{\\circ}$ be a homeomorphism of the interior. Then, \n",
      "    \\begin{enumerate}\n",
      "        \\item $f$ is isotopic to the restriction of a homeomorphism $g:N\\to N$. \n",
      "        \\item The mapping torus $T_f$ admits a vertical boundary closure.\n",
      "    \\end{enumerate}\n",
      "\\end{cor}\n",
      "---\n"
     ]
    }
   ],
   "source": [
    "assistant.query_collection(\"personal_notes\", \"cobordism\")"
   ]
  }
 ],
 "metadata": {
  "kernelspec": {
   "display_name": "rag",
   "language": "python",
   "name": "python3"
  },
  "language_info": {
   "codemirror_mode": {
    "name": "ipython",
    "version": 3
   },
   "file_extension": ".py",
   "mimetype": "text/x-python",
   "name": "python",
   "nbconvert_exporter": "python",
   "pygments_lexer": "ipython3",
   "version": "3.11.11"
  }
 },
 "nbformat": 4,
 "nbformat_minor": 2
}
